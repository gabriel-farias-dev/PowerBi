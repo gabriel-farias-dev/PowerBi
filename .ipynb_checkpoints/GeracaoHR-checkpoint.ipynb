{
 "cells": [
  {
   "cell_type": "markdown",
   "id": "5ed17518-e860-460d-b6b6-1f0317c62228",
   "metadata": {},
   "source": [
    "Neste notebook, vamos criar uma base de dados simulada com foco em análises de absenteísmo. Para isso, precisaremos de algumas variáveis previamente definidas e também de algumas regras lógicas específicas.\n",
    "No contexto de Recursos Humanos, é comum que as métricas relacionadas a presença ou ausência de colaboradores sejam baseadas em horas e não em dias. Isso se deve a uma razão lógica: um funcionário pode comparecer apenas meio período, e isso não deve ser considerado como uma falta completa.\n",
    "\n",
    "Variáveis que vamos considerar:\n",
    " - Branch (Filiais)\n",
    " - Departamento\n",
    " - Manager (Nome do gestor)\n",
    " - Office_hours (Turnos)\n",
    " - Absence_reason (Motivo da ausência)\n",
    "\n",
    "Além disso, vamos aplicar a seguinte lógica:\n",
    " - Quando o funcionário comparece, será atribuída uma quantidade aleatória de horas trabalhadas dentro de um intervalo padrão.\n",
    " - Quando o funcionário falta, o valor de horas trabalhadas será 0.\n",
    "\n",
    "Vale ressaltar que esta base será criada como uma tabela fato, ou seja, sem tabelas de dimensão (como de filiais ou gestores). O objetivo aqui é representar de forma simplificada, porém realista, como seria a construção de dados para um projeto de BI voltado para RH."
   ]
  },
  {
   "cell_type": "markdown",
   "id": "70342452-69f4-4dd3-82db-dbf92ed80b84",
   "metadata": {},
   "source": [
    "Importação de Bibliotecas"
   ]
  },
  {
   "cell_type": "code",
   "execution_count": 1,
   "id": "6ac9ae6a-895e-4b53-b70c-cae891f5a4d2",
   "metadata": {},
   "outputs": [],
   "source": [
    "#Importando as bibliotecas que vou usar\n",
    "import pandas as pd\n",
    "import numpy\n",
    "from faker import Faker\n",
    "from datetime import datetime as dt,timedelta\n",
    "import logging as log\n",
    "import random\n",
    "import os\n"
   ]
  },
  {
   "cell_type": "markdown",
   "id": "2c7bfb4c-f93f-46d6-b714-9674f016f4d6",
   "metadata": {},
   "source": [
    "Variaveis"
   ]
  },
  {
   "cell_type": "code",
   "execution_count": 2,
   "id": "235a442c-8c3a-45ff-b326-5741d03d988f",
   "metadata": {},
   "outputs": [],
   "source": [
    "fake = Faker()\n",
    "final_data = []\n",
    "\n",
    "#Branchs - Filiais\n",
    "branch_names = ['Blue', 'Yellow', 'Red', 'DeepBlue', 'Green', 'Purple', 'Pink', 'Orange', 'Brown', 'White', 'Black', 'Gray', 'Magenta', 'Cyan']\n",
    "\n",
    "#Departamentos\n",
    "Departament = ['Logistica','TI','Manutenção','RH','Planejamento Financeiro','Planejamento Logistico']\n",
    "\n",
    "#Managers - Nomes Gestor\n",
    "manager = [fake.name() for _ in range(70)]\n",
    "\n",
    "#Office Hours - Expediente\n",
    "office_hours = ['08:00 - 17:00','14:00 - 23:00','23:00 - 08:00']\n",
    "\n",
    "#absence reason - falta\n",
    "absence_reason = ['Férias','Atestado','Afastamento','Falta','Assinuidade','Convocação Judicial','Falencimento Familiar']\n",
    "\n",
    "#Agora preciso linkar as filiais com os gestores, cada filial precisa ter 5 gestores\n",
    "#Embaralhando os gestores e criando um dicionario\n",
    "random.shuffle(manager)\n",
    "branch_manager = {}"
   ]
  },
  {
   "cell_type": "markdown",
   "id": "47a987c5-847b-4f1a-b318-55957d964ded",
   "metadata": {},
   "source": [
    "Loops para fazer as bases serem geradas. Para cada branch, cada manager  e cada 15 funcioanarios, cada 365 dias, é gerado horas dos funcionarios no dia "
   ]
  },
  {
   "cell_type": "code",
   "execution_count": null,
   "id": "2f9783a9-eeff-4ccb-890e-b15d74dc9167",
   "metadata": {},
   "outputs": [],
   "source": []
  }
 ],
 "metadata": {
  "kernelspec": {
   "display_name": "Python 3 (ipykernel)",
   "language": "python",
   "name": "python3"
  },
  "language_info": {
   "codemirror_mode": {
    "name": "ipython",
    "version": 3
   },
   "file_extension": ".py",
   "mimetype": "text/x-python",
   "name": "python",
   "nbconvert_exporter": "python",
   "pygments_lexer": "ipython3",
   "version": "3.12.4"
  }
 },
 "nbformat": 4,
 "nbformat_minor": 5
}
