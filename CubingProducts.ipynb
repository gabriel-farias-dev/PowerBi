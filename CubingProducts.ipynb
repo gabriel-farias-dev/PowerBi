{
 "cells": [
  {
   "cell_type": "markdown",
   "id": "47564c2d-ff82-41c5-b26b-4e9f504912a6",
   "metadata": {},
   "source": [
    "This script aims to generate a cubing base in a completely random manner, using 3 branches and 10 routes.\n",
    "Each branch will have 10 routes that can cube a certain number of units. These units, in turn, may be before or after the established cubing target, depending on the randomly generated start time.\n",
    "\n",
    "With this in mind, we will create the base for the Power BI (PBI) analysis of the cubing start time."
   ]
  },
  {
   "cell_type": "code",
   "execution_count": 5,
   "id": "096f02e3-c569-43b4-a52c-82b4ecc2430b",
   "metadata": {},
   "outputs": [],
   "source": [
    "import pandas as pd\n",
    "import numpy as np\n",
    "from datetime import datetime as dt, timedelta\n",
    "import logging as log\n",
    "\n",
    "#to make a randomic names, library Faker\n",
    "from faker import Faker\n",
    "fake = Faker()"
   ]
  },
  {
   "cell_type": "markdown",
   "id": "9df135e7-5abe-47fe-8a84-03103fe79ca2",
   "metadata": {},
   "source": [
    "This cell below initializes the variables to be used in the rest of our code, such as the branches and routes."
   ]
  },
  {
   "cell_type": "code",
   "execution_count": 6,
   "id": "95189940-3e07-4bc7-a3cb-81e07f238cea",
   "metadata": {},
   "outputs": [],
   "source": [
    "# the datalist to keep the information before a df transformation\n",
    "datalist = []\n",
    "\n",
    "#list of dates\n",
    "dates = [(dt.now() - timedelta(days= td)).strftime('%Y-%m-%d') for td in range(365)]\n",
    "\n",
    "#routes and branchs \n",
    "branchs = ['SP','RJ','DF']\n",
    "routes = ['001','002','003','004','005','006','007','008','009','010']\n",
    "\n",
    "#generate fake client names\n",
    "client = [fake.name() for _ in range(10)]"
   ]
  },
  {
   "cell_type": "markdown",
   "id": "599bc745-779f-46aa-baeb-d7474066ec06",
   "metadata": {},
   "source": [
    "Now it's time for the logic itself. For each date of the year, for each branch, and for each route, we have values for units before and after the target. All this data is stored in a list that will be transformed into a DataFrame for direct import into Power BI. (In this case, we won't be using a database like Postgres, SQL Server, or others.)"
   ]
  },
  {
   "cell_type": "code",
   "execution_count": null,
   "id": "e2ba7c98-28e4-4052-ae57-843465f996fb",
   "metadata": {},
   "outputs": [],
   "source": [
    "for everyDate in dates:\n",
    "    for everyBranch in branchs:\n",
    "        for everyRoute in routes:\n",
    "            start_target = ''\n",
    "            #randomic max hour and min hour\n",
    "            min_hour =f'{np.random.randint(8,10)}:{np.random.randint(0,60)}:{np.random.randint(0,60)}'\n",
    "            max_hour =f'{np.random.randint(10,12)}:{np.random.randint(0,60)}:{np.random.randint(0,60)}'\n",
    "            count_cub = np.random.randint(5,20)\n",
    "\n",
    "            if everyBranch == 'SP':\n",
    "                start_target = '08:30:00'\n",
    "\n",
    "            if everyBranch == 'RJ':\n",
    "                start_target = '09:00:00'\n",
    "\n",
    "            if everyBranch == 'DF':\n",
    "                start_target = '08:45:00'\n",
    "\n",
    "            min_hour = dt.strptime(min_hour,'%H:%M:%S')\n",
    "            max_hour = dt.strptime(max_hour,'%H:%M:%S')\n",
    "            start_target = dt.strptime(start_target,'%H:%M:%S')\n",
    "\n",
    "            if min_hour > start_target:\n",
    "                units_before = 0\n",
    "                units_after = np.random.randint(1,10) * count_cub\n",
    "            else:\n",
    "                units_before = np.random.randint(0,100)\n",
    "                units_after = np.random.randint(0,100)\n",
    "\n",
    "            total_units = units_before + units_after\n",
    "            \n",
    "            datalist.append([everyBranch,everyRoute,everyDate,min_hour,max_hour,count_cub,start_target,units_before,units_after,total_units])\n",
    "\n",
    "            df = pd.DataFrame(datalist,columns=['branch','route','date','min_hour','max_hour','count_cub','start_target','units_before','units_after','total_units'])"
   ]
  },
  {
   "cell_type": "markdown",
   "id": "2631be45-f45d-4282-9b8b-3382074b0c4f",
   "metadata": {},
   "source": [
    "Lastly, a table of branches as a dimension of the Fact table. A routes table could be created, but I don't see much point in doing so in this case, just as there wasn’t a routes table in the real case of this analysis."
   ]
  },
  {
   "cell_type": "code",
   "execution_count": null,
   "id": "61e9989a-1f05-4c10-a855-372c4f4856e1",
   "metadata": {},
   "outputs": [],
   "source": [
    "branch = pd.DataFrame([[1,'SP'],[2,'RJ'],[3,'DF']],columns=['id','branch'])"
   ]
  }
 ],
 "metadata": {
  "kernelspec": {
   "display_name": "Python 3 (ipykernel)",
   "language": "python",
   "name": "python3"
  },
  "language_info": {
   "codemirror_mode": {
    "name": "ipython",
    "version": 3
   },
   "file_extension": ".py",
   "mimetype": "text/x-python",
   "name": "python",
   "nbconvert_exporter": "python",
   "pygments_lexer": "ipython3",
   "version": "3.12.4"
  }
 },
 "nbformat": 4,
 "nbformat_minor": 5
}
