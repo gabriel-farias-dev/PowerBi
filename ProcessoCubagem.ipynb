{
 "cells": [
  {
   "cell_type": "markdown",
   "metadata": {},
   "source": [
    "O objetivo dessa base é demonstrar o processo de cubagem e como podemos melhorar a eficiencia dele, monitorando o horario de inicio.\n",
    "Dessa forma, precisamos de alguns dados que vão servir de base para a nossa geração de base como:\n",
    " - branchs (filiais)\n",
    " - routes (rotas de expedição)\n",
    " - clients (clientes finais)\n",
    " - datas e horas\n",
    " - start_target (meta de inicio de cubagem)"
   ]
  },
  {
   "cell_type": "code",
   "execution_count": null,
   "id": "262cbb77",
   "metadata": {},
   "outputs": [],
   "source": [
    "import pandas as pd\n",
    "import numpy as np\n",
    "from datetime import datetime as dt, timedelta\n",
    "import logging as log"
   ]
  },
  {
   "cell_type": "markdown",
   "metadata": {},
   "source": [
    "Iniciando as variaveis"
   ]
  },
  {
   "cell_type": "code",
   "execution_count": null,
   "metadata": {},
   "outputs": [],
   "source": [
    "#to make a randomic names, library Faker\n",
    "from faker import Faker\n",
    "fake = Faker()\n",
    "\n",
    "# the datalist to keep the information before a df transformation\n",
    "datalist = []\n",
    "\n",
    "#list of dates\n",
    "dates = [(dt.now() - timedelta(days= td)).strftime('%Y-%m-%d') for td in range(365)]\n",
    "\n",
    "#routes and branchs \n",
    "branchs = ['SP','RJ','DF']\n",
    "routes = ['001','002','003','004','005','006','007','008','009','010']\n",
    "\n",
    "#generate fake client names\n",
    "client = [fake.name() for _ in range(10)]"
   ]
  },
  {
   "cell_type": "markdown",
   "metadata": {},
   "source": [
    "Aqui é realmente a geração da base. Loops de data, fialais e rota, e a lógica seria, randomicamente fazer a data entr as horas 8 as 12 e caso o horario passase da meta de inicio, isso iria refletir nas unidades antes e após a meta, que por conseuqnecia refelte na % que aparece no PowerBI"
   ]
  },
  {
   "cell_type": "code",
   "execution_count": null,
   "metadata": {},
   "outputs": [],
   "source": [
    "for everyDate in dates:\n",
    "    for everyBranch in branchs:\n",
    "        for everyRoute in routes:\n",
    "            start_target = ''\n",
    "            #randomic max hour and min hour\n",
    "            min_hour =f'{np.random.randint(8,10)}:{np.random.randint(0,60)}:{np.random.randint(0,60)}'\n",
    "            max_hour =f'{np.random.randint(10,12)}:{np.random.randint(0,60)}:{np.random.randint(0,60)}'\n",
    "            count_cub = np.random.randint(5,20)\n",
    "\n",
    "            if everyBranch == 'SP':\n",
    "                start_target = '08:30:00'\n",
    "\n",
    "            if everyBranch == 'RJ':\n",
    "                start_target = '09:00:00'\n",
    "\n",
    "            if everyBranch == 'DF':\n",
    "                start_target = '08:45:00'\n",
    "\n",
    "            min_hour = dt.strptime(min_hour,'%H:%M:%S')\n",
    "            max_hour = dt.strptime(max_hour,'%H:%M:%S')\n",
    "            start_target = dt.strptime(start_target,'%H:%M:%S')\n",
    "\n",
    "            if min_hour > start_target:\n",
    "                units_before = 0\n",
    "                units_after = np.random.randint(1,10) * count_cub\n",
    "            else:\n",
    "                units_before = np.random.randint(0,100)\n",
    "                units_after = np.random.randint(0,100)\n",
    "\n",
    "            total_units = units_before + units_after\n",
    "            \n",
    "            datalist.append([everyBranch,everyRoute,everyDate,min_hour,max_hour,count_cub,start_target,units_before,units_after,total_units])"
   ]
  },
  {
   "cell_type": "markdown",
   "metadata": {},
   "source": [
    "Mostrar os dados"
   ]
  },
  {
   "cell_type": "code",
   "execution_count": null,
   "metadata": {},
   "outputs": [],
   "source": [
    "df = pd.DataFrame(datalist,columns=['branch','route','date','min_hour','max_hour','count_cub','start_target','units_before','units_after','total_units'])\n",
    "\n",
    "branch = pd.DataFrame([[1,'SP'],[2,'RJ'],[3,'DF']],columns=['id','branch'])"
   ]
  }
 ],
 "metadata": {
  "language_info": {
   "name": "python"
  }
 },
 "nbformat": 4,
 "nbformat_minor": 2
}
