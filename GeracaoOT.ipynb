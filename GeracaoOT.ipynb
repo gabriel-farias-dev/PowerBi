{
 "cells": [
  {
   "cell_type": "markdown",
   "id": "9c6b75fc-e5dd-455b-81f9-d6fe7774d905",
   "metadata": {},
   "source": [
    "O objetivo desse notebook é de mostrar a criação da base de movimentações de itens dentro de um cd. Há diversas peculiaridades neste processo porque precisamos de uma serie de informações como:\n",
    " - Nome de Filiais\n",
    " - Nome de produtos\n",
    " - Nome de seções do estoque ( depositos)\n",
    " - Nome de usuarios que fizeram essa movimentação\n",
    "E conciliar tudo isso dentro de uma loop onde pode escolher diversas opções de forma aleatoria."
   ]
  },
  {
   "cell_type": "markdown",
   "id": "560d2f91-0e12-4182-b439-2d02c434d97d",
   "metadata": {},
   "source": [
    "Importação das bilbiotecas"
   ]
  },
  {
   "cell_type": "code",
   "execution_count": 9,
   "id": "bccd5c1d-15b6-4455-88aa-837348dd51e3",
   "metadata": {},
   "outputs": [],
   "source": [
    "import logging.config\n",
    "from datetime import datetime as dt, timedelta\n",
    "import random\n",
    "import pandas as pd\n",
    "import numpy as np\n",
    "from faker import Faker\n",
    "import logging\n",
    "#import psycopg2\n",
    "import os\n",
    "# from secrets_psql import HOST,PASSWORD"
   ]
  },
  {
   "cell_type": "markdown",
   "id": "e993233f-c83f-4420-b51a-3ca3ca100414",
   "metadata": {},
   "source": [
    "Preparação dos Logs e inicialização da biblioteca que gera dados randomicos"
   ]
  },
  {
   "cell_type": "code",
   "execution_count": 10,
   "id": "0b5aea5e-f4f6-4f74-b863-307bbc1158a0",
   "metadata": {},
   "outputs": [],
   "source": [
    "#Logs Directory\n",
    "os.makedirs(r'../../Logs',exist_ok=True)\n",
    "\n",
    "#Log\n",
    "logging.basicConfig(filename=r\"../../Logs/TO_generation.log\")\n",
    "\n",
    "#Faker\n",
    "fake = Faker()"
   ]
  },
  {
   "cell_type": "markdown",
   "id": "f1a141ea-ca0b-49ae-9c0e-7f14386a3dba",
   "metadata": {},
   "source": [
    "A partir daqui são a inicialização das variaveis, algumas são listas, algumas são dicionarios para termos mais de uma coluna , por exemplo de item que pode ser atrelado uma categoria."
   ]
  },
  {
   "cell_type": "code",
   "execution_count": 11,
   "id": "959173fe-76cc-4308-8107-4da988a47e63",
   "metadata": {},
   "outputs": [],
   "source": [
    "# Branchs, products, dates e etc\n",
    "transp_id = 0\n",
    "branchs = ['SP','RJ','DF','RS','RN','AM','CE','PA','MG','MGR','MGRS','GO','PR','ES']"
   ]
  },
  {
   "cell_type": "markdown",
   "id": "1326f72d-6891-4506-a486-5ecbd20d846b",
   "metadata": {},
   "source": [
    "A lógica dos itens é bastante simples: cada item pertence a uma categoria específica. Já a variável ty_trans, que significa \"type of transportation\", representa os tipos de movimentação entre seções do estoque, comumente chamadas de depósitos.\n",
    "\n",
    "Cada movimentação possui uma origem e um destino, ambos pré-definidos de acordo com seu tipo. Dependendo do tipo de movimentação, a origem pode estar restrita a um único depósito ou a um conjunto específico de depósitos — o mesmo se aplica ao destino. No entanto, cada movimentação ocorre entre apenas uma origem"
   ]
  },
  {
   "cell_type": "code",
   "execution_count": 12,
   "id": "aab8a051-870e-4944-9a7f-22ac1916f4d6",
   "metadata": {},
   "outputs": [],
   "source": [
    "products_by_category = {\n",
    "    \"Móveis\": [\n",
    "        'Cadeira', 'Mesa', 'Sofá', 'Cama', 'Armário', 'Estante', 'Poltrona', 'Guarda-roupa',\n",
    "        'Luminária', 'Cômoda', 'Mesa de cabeceira', 'Prateleira', 'Rack', 'TV', 'Aparador',\n",
    "        'Balcão', 'Cortina', 'Tapete', 'Quadro', 'Espelho'\n",
    "    ],\n",
    "    \"Eletrodomésticos\": [\n",
    "        'Banheira', 'Vaso sanitário', 'Lavabo', 'Chuveiro', 'Espremedor de frutas', 'Cafeteira',\n",
    "        'Liquidificador', 'Geladeira', 'Fogão', 'Micro-ondas', 'Ar condicionado', 'Ventilador',\n",
    "        'Exaustor', 'Freezer', 'Batedeira', 'Cortador de grama', 'Secadora de roupas',\n",
    "        'Máquina de lavar', 'Ferro de passar', 'Aspirador de pó'\n",
    "    ],\n",
    "    \"Eletrônicos\": [\n",
    "        'Notebook', 'Smartphone', 'Tablet', 'Relógio', 'Fone de ouvido', 'Televisor', 'Projetor',\n",
    "        'Impressora', 'Computador', 'Câmera fotográfica', 'Roteador', 'Caixa de som',\n",
    "        'Console de videogame'\n",
    "    ],\n",
    "    \"Vestuário e Acessórios\": [\n",
    "        'Tênis', 'Bota', 'Sandália', 'Sapato', 'Chinelo', 'Jaqueta', 'Camisa', 'Calça',\n",
    "        'Short', 'Saia', 'Vestido', 'Blusa', 'Cachecol', 'Boné', 'Óculos', 'Bolsa',\n",
    "        'Carteira', 'Cinto', 'Mochila', 'Relógio de pulso', 'Colar', 'Anel', 'Brincos', 'Pulseira'\n",
    "    ]\n",
    "}\n",
    "\n",
    "sections = ['001','002','003','004','005','006','007','008','009','010','011','012','013']\n",
    "users = []\n",
    "dataList = []\n",
    "\n",
    "for i in range(50):\n",
    "    users.append(fake.unique.name())\n",
    "\n",
    "ty_trans = {\n",
    "    1:{\n",
    "        'origin':['001','002','003','004'],\n",
    "        'destiny':'009'\n",
    "    },\n",
    "    2:{\n",
    "        'origin':['001','002','003','004'],\n",
    "        'destiny':['005','006','007','008']\n",
    "    },\n",
    "    3:{\n",
    "        'origin':'009',\n",
    "        'destiny':['010','011','012','013']\n",
    "    },\n",
    "    3:{\n",
    "        'origin':'009',\n",
    "        'destiny':['001','002','003','004']\n",
    "    }\n",
    "}"
   ]
  },
  {
   "cell_type": "markdown",
   "id": "8670de7d-e200-495d-8e8c-36f3f6f8c032",
   "metadata": {},
   "source": [
    "Note que dependendo da quantidade de dados que botar dentro das branchs, o numero total de linhas pode variar, com essa quantidade, o numero final fica em torno de 2 milhoes."
   ]
  },
  {
   "cell_type": "markdown",
   "id": "41aa3e4f-4027-433f-a84e-cd262d350772",
   "metadata": {},
   "source": [
    "Aqui, estamos de fato construindo a base de dados. Para evitar a repetição de código, utilizo uma função que recebe todos os parâmetros necessários para gerar as movimentações.\n",
    "\n",
    " - HourAdd: Essa variável é usada para definir um \"limite de hora\". Como a função random.random() retorna um número entre 0 e 1, ao multiplicarmos esse valor pelo número desejado (por exemplo, 12), garantimos que o valor final será, no máximo, 12.\n",
    "- Branch: A filial que está sendo gerada.\n",
    "- Day: A função será usada dentro de um loop, e esse valor inteiro será aplicado no timedelta de um datetime.now(), subtraindo dias. (O loop percorre um intervalo de 1 a 365, permitindo adicionar ou subtrair dias a cada iteração.)\n",
    "- Ttrans: Tipo de movimentação, conforme definido na célula anterior.\n",
    "- Hourlimit: Caso queiramos que a movimentação ocorra em um período específico, como entre 12h e 16h, configuramos HourAdd para 4 e, em hourlimit, definimos 12. Isso fará com que a movimentação ocorra dentro da faixa horária definida.\n",
    "- UnitReturn: Em movimentações de retorno, podemos ajustar o número de unidades movimentadas, aumentando ou diminuindo o valor conforme necessário.\n",
    "\n",
    "A única lógica que precisa ser considerada aqui é sobre os depósitos de origem e destino, que podem ser definidos como um único valor ou uma lista de valores. A função verifica essa condição para garantir que seja escolhido um único depósito de origem e destino para a movimentação."
   ]
  },
  {
   "cell_type": "code",
   "execution_count": 13,
   "id": "65832cf8-a2ac-4ffc-bbc7-4bb8ffe89cf5",
   "metadata": {},
   "outputs": [],
   "source": [
    "def processMovi(hourAdd: int,branch: str,day:int,ttrasn:int,transp_id:int, hourlimit:int = 0,unitReturn:int = 1) -> list:\n",
    "    #Down\n",
    "    today = (dt.now() - timedelta(days=day)).strftime('%Y-%m-%d')\n",
    "    hour = int(round((random.random() * hourAdd) + hourlimit, 0))\n",
    "    minute = int(round(random.random() * 59, 0))\n",
    "    sec =  int(round(random.random() * 59, 0))\n",
    "\n",
    "    #We need to discover if origin or destiny is list or unique value\n",
    "    if type(ty_trans[ttrasn]['origin']) == list:\n",
    "        dep_ori = int(random.choice(ty_trans[ttrasn]['origin']))\n",
    "    else:\n",
    "        dep_ori = int(ty_trans[ttrasn]['origin'])\n",
    "    \n",
    "    if type(ty_trans[ttrasn]['destiny']) == list:\n",
    "        dep_dest = int(random.choice(ty_trans[ttrasn]['destiny']))\n",
    "    else:\n",
    "        dep_dest = int(ty_trans[ttrasn]['destiny'])\n",
    "\n",
    "    category = random.choice(list(products_by_category.keys()))\n",
    "    product = random.choice(products_by_category[category])\n",
    "    unit = int(round(random.randint(1,2000) * unitReturn,0))\n",
    "    user = random.choice(users)\n",
    "\n",
    "    return [transp_id,branch,today,f'{hour}:{minute}:{sec}',category,product,ttrasn,dep_ori,dep_dest,unit,user]"
   ]
  },
  {
   "cell_type": "markdown",
   "id": "80b9650a-f3e6-4e00-bc39-5466b94e967f",
   "metadata": {},
   "source": [
    "Agora de fato, é a geração. Um loop para a iteração dos dias, um loop para a iteração das branchs e outro para o numero de ordens de transporte no dia.\n",
    "Todos esses dados vão ser mandados direto para a função, e note que eu tenho um ID que é incrementado e que cada iteração pode ter até 3 Ordens de Transporte, porque aqui fazemos a ideia de tirar um item do armazenamento, colocar esse item na linha de produção e por fim retornar parcialmente este item."
   ]
  },
  {
   "cell_type": "code",
   "execution_count": 14,
   "id": "777ade2c-7ec5-46d4-9f1a-b2c3717cfd93",
   "metadata": {},
   "outputs": [
    {
     "name": "stdout",
     "output_type": "stream",
     "text": [
      "Generation the data ...\n"
     ]
    }
   ],
   "source": [
    "############### Development of the base\n",
    "print('Generation the data ...')\n",
    "for everyBranch in branchs:\n",
    "    for everyDay in range(-390,0):\n",
    "        for everyTrasn in range(0, random.randint(25,350)):\n",
    "            transp_id =transp_id + 1\n",
    "            dataList.append(processMovi(hourAdd=12,branch=everyBranch,day=everyDay,ttrasn=1,transp_id=transp_id))\n",
    "            transp_id =transp_id + 1\n",
    "            dataList.append(processMovi(hourAdd=4,hourlimit=12,branch=everyBranch,day=everyDay,ttrasn=3,transp_id=transp_id))\n",
    "            \n",
    "            #return?\n",
    "            returnUnit = random.choices([True,False],[0.3,0.7],k=1)[0]\n",
    "            if returnUnit:\n",
    "                transp_id =transp_id + 1\n",
    "                dataList.append(processMovi(hourAdd=4,hourlimit=12,branch=everyBranch,day=everyDay,ttrasn=2,transp_id=transp_id,unitReturn= random.random() ))"
   ]
  },
  {
   "cell_type": "markdown",
   "id": "d4c74b7f-26e6-42a3-9062-1293b1f4991d",
   "metadata": {},
   "source": [
    "No final, é só colocar a lista de listas dentro de um Dataframe e a base está pronta"
   ]
  },
  {
   "cell_type": "code",
   "execution_count": 15,
   "id": "6a283999-7168-4c2b-9ade-66d40cd04e75",
   "metadata": {},
   "outputs": [
    {
     "name": "stdout",
     "output_type": "stream",
     "text": [
      "              id branch        date      hour               categoria  \\\n",
      "0              1     SP  2026-06-04  10:23:19             Eletrônicos   \n",
      "1              2     SP  2026-06-04   15:5:55  Vestuário e Acessórios   \n",
      "2              3     SP  2026-06-04  13:45:50             Eletrônicos   \n",
      "3              4     SP  2026-06-04  10:58:17                  Móveis   \n",
      "4              5     SP  2026-06-04  12:48:42        Eletrodomésticos   \n",
      "...          ...    ...         ...       ...                     ...   \n",
      "2363590  2363591     ES  2025-05-11  16:32:26             Eletrônicos   \n",
      "2363591  2363592     ES  2025-05-11  11:18:42        Eletrodomésticos   \n",
      "2363592  2363593     ES  2025-05-11  12:20:14  Vestuário e Acessórios   \n",
      "2363593  2363594     ES  2025-05-11  10:47:56             Eletrônicos   \n",
      "2363594  2363595     ES  2025-05-11  14:42:43  Vestuário e Acessórios   \n",
      "\n",
      "                   produto  move_id  dep_origem  dep_destiny  units  \\\n",
      "0                   Tablet        1           1            9    269   \n",
      "1                    Colar        3           9            2   1564   \n",
      "2                Televisor        2           2            5    945   \n",
      "3                   Cômoda        1           4            9    763   \n",
      "4        Cortador de grama        3           9            4   1909   \n",
      "...                    ...      ...         ...          ...    ...   \n",
      "2363590          Televisor        3           9            3    901   \n",
      "2363591              Fogão        1           4            9   1658   \n",
      "2363592           Pulseira        3           9            2    362   \n",
      "2363593         Computador        1           2            9   1892   \n",
      "2363594             Camisa        3           9            4    825   \n",
      "\n",
      "                        user  \n",
      "0               Kelsey Davis  \n",
      "1             James Harrison  \n",
      "2               Dustin Perez  \n",
      "3             David Johnston  \n",
      "4           Douglas Wang PhD  \n",
      "...                      ...  \n",
      "2363590   Christopher Hoover  \n",
      "2363591  Christopher Collins  \n",
      "2363592      Rebecca Jackson  \n",
      "2363593          Dale Adkins  \n",
      "2363594     Stephanie Jacobs  \n",
      "\n",
      "[2363595 rows x 11 columns]\n"
     ]
    }
   ],
   "source": [
    "df = pd.DataFrame(dataList,columns=['id','branch','date','hour','categoria','produto','move_id','dep_origem','dep_destiny','units','user'])\n",
    "print(df)"
   ]
  }
 ],
 "metadata": {
  "kernelspec": {
   "display_name": "Python 3 (ipykernel)",
   "language": "python",
   "name": "python3"
  },
  "language_info": {
   "codemirror_mode": {
    "name": "ipython",
    "version": 3
   },
   "file_extension": ".py",
   "mimetype": "text/x-python",
   "name": "python",
   "nbconvert_exporter": "python",
   "pygments_lexer": "ipython3",
   "version": "3.12.4"
  }
 },
 "nbformat": 4,
 "nbformat_minor": 5
}
